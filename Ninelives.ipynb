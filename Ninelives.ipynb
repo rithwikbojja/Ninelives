{
  "nbformat": 4,
  "nbformat_minor": 0,
  "metadata": {
    "colab": {
      "name": "Ninelives.ipynb",
      "provenance": []
    },
    "kernelspec": {
      "name": "python3",
      "display_name": "Python 3"
    }
  },
  "cells": [
    {
      "cell_type": "code",
      "metadata": {
        "id": "CWzeUNJ8SBrA",
        "colab_type": "code",
        "colab": {
          "base_uri": "https://localhost:8080/",
          "height": 493
        },
        "outputId": "3d160cb3-25c2-4f77-f20a-8b0eb13e1f67"
      },
      "source": [
        "import random\n",
        "list=[\"hello\",\"pizza\",\"mango\",\"apple\",\"sweet\"] \n",
        "word = random.choice(list)\n",
        "result=[\"?\",\"?\",\"?\",\"?\",\"?\"]\n",
        "turns=9 \n",
        "count=0\n",
        "k=0\n",
        "z=word\n",
        "print(z)\n",
        "def chang(word):\n",
        "    return list(word)\n",
        "while(turns>0):\n",
        "    ans=input(\"Enter a letter or word:\")\n",
        "    if(len(ans)>1):\n",
        "        if z==ans:\n",
        "            print(\"You won congrats\\n the word is \",word)\n",
        "            break\n",
        "        else:\n",
        "            turns-=1\n",
        "            print(\"you have still \",turns,\" chances\")\n",
        "    else:\n",
        "        for i in word:\n",
        "            if(ans==i):\n",
        "                count+=1\n",
        "                k+=1\n",
        "                r1=word.index(i)\n",
        "                break\n",
        "        if k==0:\n",
        "            turns-=1\n",
        "            print(\"you have still \",turns,\" chances\")\n",
        "            print(result)\n",
        "        else:\n",
        "            result.pop(r1)\n",
        "            word=word.replace(word[r1],\"1\",1)\n",
        "            result.insert(r1,ans)\n",
        "            k=0\n",
        "            print(result)\n",
        "    if(count==5):\n",
        "        print(\"You won congrats\\n the word is \",z)\n",
        "        break\n",
        "if(turns==0):\n",
        "    print(\"You have lost the game\")"
      ],
      "execution_count": 1,
      "outputs": [
        {
          "output_type": "stream",
          "text": [
            "pizza\n",
            "Enter a letter or word:r\n",
            "you have still  8  chances\n",
            "['?', '?', '?', '?', '?']\n",
            "Enter a letter or word:f\n",
            "you have still  7  chances\n",
            "['?', '?', '?', '?', '?']\n",
            "Enter a letter or word:g\n",
            "you have still  6  chances\n",
            "['?', '?', '?', '?', '?']\n",
            "Enter a letter or word:\n",
            "you have still  5  chances\n",
            "['?', '?', '?', '?', '?']\n",
            "Enter a letter or word:et\n",
            "you have still  4  chances\n",
            "Enter a letter or word:y\n",
            "Enter a letter or word:\n",
            "you have still  3  chances\n",
            "['?', '?', '?', '?', '?']\n",
            "you have still  2  chances\n",
            "['?', '?', '?', '?', '?']\n",
            "Enter a letter or word:e\n",
            "you have still  1  chances\n",
            "['?', '?', '?', '?', '?']\n",
            "Enter a letter or word:e\n",
            "you have still  0  chances\n",
            "['?', '?', '?', '?', '?']\n",
            "You have lost the game\n"
          ],
          "name": "stdout"
        }
      ]
    },
    {
      "cell_type": "code",
      "metadata": {
        "id": "TzCE1SRWWhHY",
        "colab_type": "code",
        "colab": {}
      },
      "source": [
        ""
      ],
      "execution_count": 0,
      "outputs": []
    },
    {
      "cell_type": "code",
      "metadata": {
        "id": "v93RcxtCZSKj",
        "colab_type": "code",
        "colab": {
          "base_uri": "https://localhost:8080/",
          "height": 34
        },
        "outputId": "d9f71ce3-1d86-4d45-bdd0-670a2d0a4379"
      },
      "source": [
        "ord('z')"
      ],
      "execution_count": 66,
      "outputs": [
        {
          "output_type": "execute_result",
          "data": {
            "text/plain": [
              "122"
            ]
          },
          "metadata": {
            "tags": []
          },
          "execution_count": 66
        }
      ]
    },
    {
      "cell_type": "code",
      "metadata": {
        "id": "hpNv4XMrSBtf",
        "colab_type": "code",
        "colab": {}
      },
      "source": [
        ""
      ],
      "execution_count": 0,
      "outputs": []
    },
    {
      "cell_type": "code",
      "metadata": {
        "id": "sWSptlbxSBwQ",
        "colab_type": "code",
        "colab": {}
      },
      "source": [
        ""
      ],
      "execution_count": 0,
      "outputs": []
    },
    {
      "cell_type": "code",
      "metadata": {
        "id": "XWiK5ljKSBzg",
        "colab_type": "code",
        "colab": {}
      },
      "source": [
        ""
      ],
      "execution_count": 0,
      "outputs": []
    },
    {
      "cell_type": "code",
      "metadata": {
        "id": "6MvfWgeXSB1o",
        "colab_type": "code",
        "colab": {}
      },
      "source": [
        ""
      ],
      "execution_count": 0,
      "outputs": []
    },
    {
      "cell_type": "code",
      "metadata": {
        "id": "ZO57oGIXSB3p",
        "colab_type": "code",
        "colab": {}
      },
      "source": [
        ""
      ],
      "execution_count": 0,
      "outputs": []
    },
    {
      "cell_type": "code",
      "metadata": {
        "id": "Yj489nwgSB7B",
        "colab_type": "code",
        "colab": {}
      },
      "source": [
        ""
      ],
      "execution_count": 0,
      "outputs": []
    }
  ]
}